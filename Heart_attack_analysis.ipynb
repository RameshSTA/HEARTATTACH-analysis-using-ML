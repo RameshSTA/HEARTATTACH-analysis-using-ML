{
  "nbformat": 4,
  "nbformat_minor": 0,
  "metadata": {
    "colab": {
      "provenance": [],
      "authorship_tag": "ABX9TyNq1pH6h0cpmE4gB0wQ1Ghy",
      "include_colab_link": true
    },
    "kernelspec": {
      "name": "python3",
      "display_name": "Python 3"
    },
    "language_info": {
      "name": "python"
    }
  },
  "cells": [
    {
      "cell_type": "markdown",
      "metadata": {
        "id": "view-in-github",
        "colab_type": "text"
      },
      "source": [
        "<a href=\"https://colab.research.google.com/github/RameshSTA/HEARTATTACH-analysis-using-ML/blob/main/Heart_attack_analysis.ipynb\" target=\"_parent\"><img src=\"https://colab.research.google.com/assets/colab-badge.svg\" alt=\"Open In Colab\"/></a>"
      ]
    },
    {
      "cell_type": "markdown",
      "source": [
        "#Introduction\n",
        "A heart attack, also known as a myocardial infarction, occurs when a part of the heart muscle doesn't receive enough blood. Without treatment to restore blood flow, the longer the time passes, the more damage is done to the heart muscle. Coronary artery disease (CAD) is the primary cause of a heart attack.\n",
        "\n",
        "In addition to coronary artery disease, other factors such as high blood pressure, high cholesterol, smoking, obesity, physical inactivity, diabetes, and a family history of heart disease can increase the risk of a heart attack. Recognizing the signs and symptoms of a heart attack, such as chest pain, shortness of breath, nausea, and lightheadedness, is critical for prompt medical attention. Treatment options for a heart attack may include medication, surgery, lifestyle changes, or a combination of these approaches."
      ],
      "metadata": {
        "id": "B_2EmsrgETxy"
      }
    },
    {
      "cell_type": "code",
      "source": [],
      "metadata": {
        "id": "anwMWR-2Ebki"
      },
      "execution_count": null,
      "outputs": []
    }
  ]
}